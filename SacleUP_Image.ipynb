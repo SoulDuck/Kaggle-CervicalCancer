{
 "cells": [
  {
   "cell_type": "code",
   "execution_count": 1,
   "metadata": {
    "collapsed": true
   },
   "outputs": [],
   "source": [
    "import matplotlib.pyplot as plt\n",
    "import numpy as np \n",
    "%matplotlib inline\n",
    "import PIL\n",
    "from PIL import Image\n",
    "import glob \n",
    "from multiprocessing import Pool"
   ]
  },
  {
   "cell_type": "code",
   "execution_count": 2,
   "metadata": {
    "collapsed": true
   },
   "outputs": [],
   "source": [
    "sample = np.load('/ssd/cervical/GMM/train/Type_1/0.npy')\n"
   ]
  },
  {
   "cell_type": "code",
   "execution_count": 3,
   "metadata": {
    "collapsed": false
   },
   "outputs": [
    {
     "name": "stdout",
     "output_type": "stream",
     "text": [
      "(178, 175, 3)\n"
     ]
    }
   ],
   "source": [
    "img=Image.fromarray(sample)\n",
    "print np.shape(img)"
   ]
  },
  {
   "cell_type": "markdown",
   "metadata": {},
   "source": [
    "# Train "
   ]
  },
  {
   "cell_type": "code",
   "execution_count": 4,
   "metadata": {
    "collapsed": false
   },
   "outputs": [],
   "source": [
    "train_1=glob.glob('/ssd/cervical/GMM/train/Type_1/*.npy')\n",
    "train_2=glob.glob('/ssd/cervical/GMM/train/Type_2/*.npy')\n",
    "train_3=glob.glob('/ssd/cervical/GMM/train/Type_3/*.npy')"
   ]
  },
  {
   "cell_type": "markdown",
   "metadata": {},
   "source": [
    "# Additional"
   ]
  },
  {
   "cell_type": "code",
   "execution_count": 5,
   "metadata": {
    "collapsed": true
   },
   "outputs": [],
   "source": [
    "add_1=glob.glob('/ssd/cervical/GMM/additional/Type_1/*.npy')\n",
    "add_2=glob.glob('/ssd/cervical/GMM/additional/Type_2/*.npy')\n",
    "add_3=glob.glob('/ssd/cervical/GMM/additional/Type_3/*.npy')"
   ]
  },
  {
   "cell_type": "code",
   "execution_count": 6,
   "metadata": {
    "collapsed": true
   },
   "outputs": [],
   "source": [
    "def get_name(path):\n",
    "    return path.split('/')[-1].split('.')[0]"
   ]
  },
  {
   "cell_type": "code",
   "execution_count": 7,
   "metadata": {
    "collapsed": true
   },
   "outputs": [],
   "source": [
    "save_folder='/ssd/cervical/GMM_224x224/train/Type_1/'"
   ]
  },
  {
   "cell_type": "code",
   "execution_count": 8,
   "metadata": {
    "collapsed": false
   },
   "outputs": [],
   "source": [
    "def resize_imgae( src_path , save_folder , extension = '*.npy', size=(224,224) ):\n",
    "    #paths=glob.glob('/ssd/cervical/GMM/train/Type_1/'+extension)\n",
    "    #for i , path in enumerate(paths):\n",
    "    #print save_folder\n",
    "    np_img=np.load(src_path)\n",
    "    img=Image.fromarray(np_img)\n",
    "    res_img=img.resize(size)\n",
    "    np_img=np.asarray(res_img)\n",
    "    name = get_name(src_path)\n",
    "    np.save(save_folder + name  , np_img)\n",
    "    return name\n",
    "    "
   ]
  },
  {
   "cell_type": "raw",
   "metadata": {},
   "source": [
    "# resize_imgae('/ssd/cervical/GMM/train/Type_1/0.npy' , save_folder='/ssd/cervical/GMM_224x224/train/Type_1/')"
   ]
  },
  {
   "cell_type": "code",
   "execution_count": 9,
   "metadata": {
    "collapsed": false
   },
   "outputs": [],
   "source": [
    "def copy_element(n , ele):\n",
    "    ret_list =[]\n",
    "    for i in range(n):\n",
    "        ret_list.append(ele)\n",
    "    return ret_list"
   ]
  },
  {
   "cell_type": "code",
   "execution_count": 10,
   "metadata": {
    "collapsed": false
   },
   "outputs": [],
   "source": [
    "pool =Pool()"
   ]
  },
  {
   "cell_type": "code",
   "execution_count": 11,
   "metadata": {
    "collapsed": false
   },
   "outputs": [],
   "source": [
    "save_folder='/ssd/cervical/GMM_224x224/train/Type_1/'\n",
    "for path in train_1:\n",
    "    resize_imgae(path , save_folder)"
   ]
  },
  {
   "cell_type": "code",
   "execution_count": 12,
   "metadata": {
    "collapsed": false
   },
   "outputs": [],
   "source": [
    "save_folder='/ssd/cervical/GMM_224x224/train/Type_2/'\n",
    "for path in train_2:\n",
    "    resize_imgae(path , save_folder)"
   ]
  },
  {
   "cell_type": "code",
   "execution_count": 13,
   "metadata": {
    "collapsed": false
   },
   "outputs": [],
   "source": [
    "save_folder='/ssd/cervical/GMM_224x224/train/Type_3/'\n",
    "for path in train_3:\n",
    "    resize_imgae(path , save_folder)"
   ]
  },
  {
   "cell_type": "code",
   "execution_count": 15,
   "metadata": {
    "collapsed": false
   },
   "outputs": [],
   "source": [
    "save_folder='/ssd/cervical/GMM_224x224/additional/Type_1/'\n",
    "for path in add_1:\n",
    "    resize_imgae(path , save_folder)"
   ]
  },
  {
   "cell_type": "code",
   "execution_count": 16,
   "metadata": {
    "collapsed": false
   },
   "outputs": [],
   "source": [
    "save_folder='/ssd/cervical/GMM_224x224/additional/Type_2/'\n",
    "for path in add_2:\n",
    "    resize_imgae(path , save_folder)"
   ]
  },
  {
   "cell_type": "code",
   "execution_count": 17,
   "metadata": {
    "collapsed": false
   },
   "outputs": [],
   "source": [
    "save_folder='/ssd/cervical/GMM_224x224/additional/Type_3/'\n",
    "for path in add_3:\n",
    "    resize_imgae(path , save_folder)"
   ]
  },
  {
   "cell_type": "code",
   "execution_count": null,
   "metadata": {
    "collapsed": true
   },
   "outputs": [],
   "source": [
    "\n"
   ]
  }
 ],
 "metadata": {
  "kernelspec": {
   "display_name": "Python 2",
   "language": "python",
   "name": "python2"
  },
  "language_info": {
   "codemirror_mode": {
    "name": "ipython",
    "version": 2
   },
   "file_extension": ".py",
   "mimetype": "text/x-python",
   "name": "python",
   "nbconvert_exporter": "python",
   "pygments_lexer": "ipython2",
   "version": "2.7.6"
  }
 },
 "nbformat": 4,
 "nbformat_minor": 1
}
