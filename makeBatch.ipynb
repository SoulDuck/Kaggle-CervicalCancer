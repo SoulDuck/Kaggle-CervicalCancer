{
 "cells": [
  {
   "cell_type": "code",
   "execution_count": 43,
   "metadata": {
    "collapsed": false
   },
   "outputs": [
    {
     "ename": "SyntaxError",
     "evalue": "invalid syntax (batch.py, line 11)",
     "output_type": "error",
     "traceback": [
      "\u001b[0;36m  File \u001b[0;32m\"batch.py\"\u001b[0;36m, line \u001b[0;32m11\u001b[0m\n\u001b[0;31m    def __init__(self ,folder_path)\u001b[0m\n\u001b[0m                                   ^\u001b[0m\n\u001b[0;31mSyntaxError\u001b[0m\u001b[0;31m:\u001b[0m invalid syntax\n"
     ]
    }
   ],
   "source": [
    "import numpy as np \n",
    "import matplotlib.pyplot as plt \n",
    "import PIL \n",
    "import glob\n",
    "from PIL import Image\n",
    "import os ,sys\n",
    "import batch"
   ]
  },
  {
   "cell_type": "code",
   "execution_count": 18,
   "metadata": {
    "collapsed": false
   },
   "outputs": [],
   "source": [
    "%matplotlib inline"
   ]
  },
  {
   "cell_type": "markdown",
   "metadata": {},
   "source": [
    "# Make Train Batch"
   ]
  },
  {
   "cell_type": "code",
   "execution_count": 19,
   "metadata": {
    "collapsed": true
   },
   "outputs": [],
   "source": [
    "train_1=glob.glob(\"/ssd/cervical/train/Type_1/*.jpg\")\n",
    "train_2=glob.glob(\"/ssd/cervical/train/Type_2/*.jpg\")\n",
    "train_3=glob.glob(\"/ssd/cervical/train/Type_3/*.jpg\")"
   ]
  },
  {
   "cell_type": "code",
   "execution_count": 20,
   "metadata": {
    "collapsed": true
   },
   "outputs": [],
   "source": [
    "additional_1=glob.glob(\"/ssd/cervical/train/additional_1/*.jpg\")\n",
    "additional_2=glob.glob(\"/ssd/cervical/train/additional_2/*.jpg\")\n",
    "additional_3=glob.glob(\"/ssd/cervical/train/additional_3/*.jpg\")"
   ]
  },
  {
   "cell_type": "code",
   "execution_count": 39,
   "metadata": {
    "collapsed": true
   },
   "outputs": [],
   "source": [
    "def makeBatch(*args):\n",
    "    imgs=[]\n",
    "    for thing in args:\n",
    "        paths=list(thing) \n",
    "        for path in paths:\n",
    "            try:\n",
    "                img=Image.open(path)\n",
    "                img=resize_image(img)\n",
    "                imgs.append(img)\n",
    "            except IOError as ioe:\n",
    "                f=open('Error_log.txt' , 'a')\n",
    "                f.write(str(ioe))\n",
    "                f.write(path)\n",
    "                print path\n",
    "                continue\n",
    "            \n",
    "    return imgs"
   ]
  },
  {
   "cell_type": "code",
   "execution_count": 22,
   "metadata": {
    "collapsed": true
   },
   "outputs": [],
   "source": [
    "def resize_image(img , size =(224,224)):\n",
    "    img=img.resize(size , Image.ANTIALIAS)\n",
    "    return img"
   ]
  },
  {
   "cell_type": "code",
   "execution_count": 37,
   "metadata": {
    "collapsed": false
   },
   "outputs": [],
   "source": [
    "def Images2numpy(images , img_size=(224,224) , color_ch =3 ):\n",
    "    n=len(images)\n",
    "    imgs_np=np.zeros([n,img_size[0] , img_size[1] , color_ch ])\n",
    "    for i,image in enumerate(images):\n",
    "        imgs_np[i] = image\n",
    "    return imgs_np\n",
    "        "
   ]
  },
  {
   "cell_type": "code",
   "execution_count": 40,
   "metadata": {
    "collapsed": false
   },
   "outputs": [
    {
     "name": "stdout",
     "output_type": "stream",
     "text": [
      "/ssd/cervical/train/Type_1/1339.jpg\n"
     ]
    }
   ],
   "source": [
    "train_1_imgs=makeBatch(train_1 , additional_1)\n",
    "#train_2_imgs=makeBatch(train_2 , additional_2)\n",
    "#train_3_imgs=makeBatch(train_3 , additional_3)"
   ]
  },
  {
   "cell_type": "code",
   "execution_count": 41,
   "metadata": {
    "collapsed": false
   },
   "outputs": [],
   "source": [
    "train_1_np = Images2numpy(train_1_imgs)"
   ]
  },
  {
   "cell_type": "code",
   "execution_count": 42,
   "metadata": {
    "collapsed": false
   },
   "outputs": [
    {
     "data": {
      "text/plain": [
       "(249, 224, 224, 3)"
      ]
     },
     "execution_count": 42,
     "metadata": {},
     "output_type": "execute_result"
    }
   ],
   "source": [
    "np.shape(train_1_np)"
   ]
  },
  {
   "cell_type": "code",
   "execution_count": null,
   "metadata": {
    "collapsed": true
   },
   "outputs": [],
   "source": []
  }
 ],
 "metadata": {
  "kernelspec": {
   "display_name": "Python 2",
   "language": "python",
   "name": "python2"
  },
  "language_info": {
   "codemirror_mode": {
    "name": "ipython",
    "version": 2
   },
   "file_extension": ".py",
   "mimetype": "text/x-python",
   "name": "python",
   "nbconvert_exporter": "python",
   "pygments_lexer": "ipython2",
   "version": "2.7.6"
  }
 },
 "nbformat": 4,
 "nbformat_minor": 1
}
