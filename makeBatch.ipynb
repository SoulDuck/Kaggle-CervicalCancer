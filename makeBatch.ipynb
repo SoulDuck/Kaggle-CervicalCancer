{
 "cells": [
  {
   "cell_type": "code",
   "execution_count": 1,
   "metadata": {
    "collapsed": false
   },
   "outputs": [],
   "source": [
    "import numpy as np \n",
    "import matplotlib.pyplot as plt \n",
    "import PIL \n",
    "import glob\n",
    "from PIL import Image\n",
    "import os ,sys\n",
    "import batch"
   ]
  },
  {
   "cell_type": "code",
   "execution_count": 2,
   "metadata": {
    "collapsed": false
   },
   "outputs": [],
   "source": [
    "%matplotlib inline"
   ]
  },
  {
   "cell_type": "markdown",
   "metadata": {},
   "source": [
    "# Make Train Batch"
   ]
  },
  {
   "cell_type": "code",
   "execution_count": 19,
   "metadata": {
    "collapsed": true
   },
   "outputs": [],
   "source": [
    "train_1=glob.glob(\"/ssd/cervical/train/Type_1/*.jpg\")\n",
    "train_2=glob.glob(\"/ssd/cervical/train/Type_2/*.jpg\")\n",
    "train_3=glob.glob(\"/ssd/cervical/train/Type_3/*.jpg\")"
   ]
  },
  {
   "cell_type": "code",
   "execution_count": 20,
   "metadata": {
    "collapsed": true
   },
   "outputs": [],
   "source": [
    "additional_1=glob.glob(\"/ssd/cervical/train/additional_1/*.jpg\")\n",
    "additional_2=glob.glob(\"/ssd/cervical/train/additional_2/*.jpg\")\n",
    "additional_3=glob.glob(\"/ssd/cervical/train/additional_3/*.jpg\")"
   ]
  },
  {
   "cell_type": "code",
   "execution_count": 39,
   "metadata": {
    "collapsed": true
   },
   "outputs": [],
   "source": [
    "def makeBatch(*args):\n",
    "    imgs=[]\n",
    "    for thing in args:\n",
    "        paths=list(thing) \n",
    "        for path in paths:\n",
    "            try:\n",
    "                img=Image.open(path)\n",
    "                img=resize_image(img)\n",
    "                imgs.append(img)\n",
    "            except IOError as ioe:\n",
    "                f=open('Error_log.txt' , 'a')\n",
    "                f.write(str(ioe))\n",
    "                f.write(path)\n",
    "                print path\n",
    "                continue\n",
    "            \n",
    "    return imgs"
   ]
  },
  {
   "cell_type": "code",
   "execution_count": 22,
   "metadata": {
    "collapsed": true
   },
   "outputs": [],
   "source": [
    "def resize_image(img , size =(224,224)):\n",
    "    img=img.resize(size , Image.ANTIALIAS)\n",
    "    return img"
   ]
  },
  {
   "cell_type": "code",
   "execution_count": 37,
   "metadata": {
    "collapsed": false
   },
   "outputs": [],
   "source": [
    "def Images2numpy(images , img_size=(224,224) , color_ch =3 ):\n",
    "    n=len(images)\n",
    "    imgs_np=np.zeros([n,img_size[0] , img_size[1] , color_ch ])\n",
    "    for i,image in enumerate(images):\n",
    "        imgs_np[i] = image\n",
    "    return imgs_np\n",
    "        "
   ]
  },
  {
   "cell_type": "code",
   "execution_count": 40,
   "metadata": {
    "collapsed": false
   },
   "outputs": [
    {
     "name": "stdout",
     "output_type": "stream",
     "text": [
      "/ssd/cervical/train/Type_1/1339.jpg\n"
     ]
    }
   ],
   "source": [
    "train_1_imgs=makeBatch(train_1 , additional_1)\n",
    "#train_2_imgs=makeBatch(train_2 , additional_2)\n",
    "#train_3_imgs=makeBatch(train_3 , additional_3)"
   ]
  },
  {
   "cell_type": "code",
   "execution_count": 41,
   "metadata": {
    "collapsed": false
   },
   "outputs": [],
   "source": [
    "train_1_np = Images2numpy(train_1_imgs)"
   ]
  },
  {
   "cell_type": "code",
   "execution_count": 42,
   "metadata": {
    "collapsed": false
   },
   "outputs": [
    {
     "data": {
      "text/plain": [
       "(249, 224, 224, 3)"
      ]
     },
     "execution_count": 42,
     "metadata": {},
     "output_type": "execute_result"
    }
   ],
   "source": [
    "np.shape(train_1_np)"
   ]
  },
  {
   "cell_type": "code",
   "execution_count": 3,
   "metadata": {
    "collapsed": false
   },
   "outputs": [
    {
     "name": "stdout",
     "output_type": "stream",
     "text": [
      "# additional type1 :1191\n",
      "# additional type2 :3567\n",
      "# additional type3 :1976\n",
      "# traintype1 :250\n",
      "# traintype2 :781\n",
      "# traintype3 :450\n"
     ]
    },
    {
     "ename": "NameError",
     "evalue": "global name 'train_1' is not defined",
     "output_type": "error",
     "traceback": [
      "\u001b[0;31m\u001b[0m",
      "\u001b[0;31mNameError\u001b[0mTraceback (most recent call last)",
      "\u001b[0;32m<ipython-input-3-2d33db2c8d5f>\u001b[0m in \u001b[0;36m<module>\u001b[0;34m()\u001b[0m\n\u001b[1;32m      1\u001b[0m \u001b[0mbatch_\u001b[0m\u001b[0;34m=\u001b[0m\u001b[0mbatch\u001b[0m\u001b[0;34m.\u001b[0m\u001b[0mbatch\u001b[0m\u001b[0;34m(\u001b[0m\u001b[0;34m'/ssd/cervical/'\u001b[0m\u001b[0;34m)\u001b[0m\u001b[0;34m\u001b[0m\u001b[0m\n\u001b[0;32m----> 2\u001b[0;31m \u001b[0mtype1\u001b[0m \u001b[0;34m,\u001b[0m \u001b[0mtype2\u001b[0m \u001b[0;34m,\u001b[0m \u001b[0mtype3\u001b[0m \u001b[0;34m=\u001b[0m\u001b[0mbatch_\u001b[0m\u001b[0;34m.\u001b[0m\u001b[0mget_batch\u001b[0m\u001b[0;34m(\u001b[0m\u001b[0;34m)\u001b[0m\u001b[0;34m\u001b[0m\u001b[0m\n\u001b[0m",
      "\u001b[0;32m/home/user01/notebook/KimLABs/Kaggle/git/batch.py\u001b[0m in \u001b[0;36mget_batch\u001b[0;34m(self)\u001b[0m\n\u001b[1;32m     61\u001b[0m         \u001b[0;32mreturn\u001b[0m \u001b[0mimgs_np\u001b[0m\u001b[0;34m\u001b[0m\u001b[0m\n\u001b[1;32m     62\u001b[0m     \u001b[0;32mdef\u001b[0m \u001b[0mget_batch\u001b[0m\u001b[0;34m(\u001b[0m\u001b[0mself\u001b[0m\u001b[0;34m)\u001b[0m\u001b[0;34m:\u001b[0m\u001b[0;34m\u001b[0m\u001b[0m\n\u001b[0;32m---> 63\u001b[0;31m         \u001b[0mtype_1_imgs\u001b[0m\u001b[0;34m=\u001b[0m\u001b[0mself\u001b[0m\u001b[0;34m.\u001b[0m\u001b[0mmakeBatch\u001b[0m\u001b[0;34m(\u001b[0m\u001b[0mtrain_1\u001b[0m \u001b[0;34m,\u001b[0m \u001b[0madditional_1\u001b[0m\u001b[0;34m)\u001b[0m\u001b[0;34m\u001b[0m\u001b[0m\n\u001b[0m\u001b[1;32m     64\u001b[0m         \u001b[0mtype_2_imgs\u001b[0m\u001b[0;34m=\u001b[0m\u001b[0mself\u001b[0m\u001b[0;34m.\u001b[0m\u001b[0mmakeBatch\u001b[0m\u001b[0;34m(\u001b[0m\u001b[0mtrain_2\u001b[0m \u001b[0;34m,\u001b[0m \u001b[0madditional_2\u001b[0m\u001b[0;34m)\u001b[0m\u001b[0;34m\u001b[0m\u001b[0m\n\u001b[1;32m     65\u001b[0m         \u001b[0mtype_3_imgs\u001b[0m\u001b[0;34m=\u001b[0m\u001b[0mself\u001b[0m\u001b[0;34m.\u001b[0m\u001b[0mmakeBatch\u001b[0m\u001b[0;34m(\u001b[0m\u001b[0mtrain_3\u001b[0m \u001b[0;34m,\u001b[0m \u001b[0madditional_3\u001b[0m\u001b[0;34m)\u001b[0m\u001b[0;34m\u001b[0m\u001b[0m\n",
      "\u001b[0;31mNameError\u001b[0m: global name 'train_1' is not defined"
     ]
    }
   ],
   "source": [
    "batch_=batch.batch('/ssd/cervical/')\n",
    "type1 , type2 , type3 =batch_.get_batch()"
   ]
  },
  {
   "cell_type": "code",
   "execution_count": null,
   "metadata": {
    "collapsed": true
   },
   "outputs": [],
   "source": []
  }
 ],
 "metadata": {
  "kernelspec": {
   "display_name": "Python 2",
   "language": "python",
   "name": "python2"
  },
  "language_info": {
   "codemirror_mode": {
    "name": "ipython",
    "version": 2
   },
   "file_extension": ".py",
   "mimetype": "text/x-python",
   "name": "python",
   "nbconvert_exporter": "python",
   "pygments_lexer": "ipython2",
   "version": "2.7.6"
  }
 },
 "nbformat": 4,
 "nbformat_minor": 1
}
