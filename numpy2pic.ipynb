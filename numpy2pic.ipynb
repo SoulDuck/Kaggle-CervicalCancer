{
 "cells": [
  {
   "cell_type": "code",
   "execution_count": 1,
   "metadata": {
    "collapsed": false
   },
   "outputs": [],
   "source": [
    "import numpy as np \n",
    "import matplotlib.pyplot as plt\n",
    "import glob\n",
    "from PIL import Image \n",
    "import PIL "
   ]
  },
  {
   "cell_type": "code",
   "execution_count": 3,
   "metadata": {
    "collapsed": false
   },
   "outputs": [],
   "source": [
    "def np2jpg(src_folder , save_folder , extension='.jpg'):\n",
    "    npy_list=glob.glob(src_folder+'*.npy')\n",
    "    for path in npy_list: \n",
    "        name=path.split('/')[-1].split('.')[0]\n",
    "        np_img=np.load(path)\n",
    "        img = Image.fromarray(np_img)\n",
    "        img.save(save_folder + name + extension)"
   ]
  },
  {
   "cell_type": "code",
   "execution_count": null,
   "metadata": {
    "collapsed": true
   },
   "outputs": [],
   "source": [
    "src_folder='/ssd/cervical/GMM/train/Type_1/'\n",
    "save_folder ='/ssd/cervical/GMM_jpg/train/Type_1/'\n",
    "np2jpg(src_folder , save_folder)"
   ]
  },
  {
   "cell_type": "code",
   "execution_count": null,
   "metadata": {
    "collapsed": true
   },
   "outputs": [],
   "source": [
    "src_folder='/ssd/cervical/GMM/train/Type_2/'\n",
    "save_folder ='/ssd/cervical/GMM_jpg/train/Type_2/'\n",
    "np2jpg(src_folder , save_folder)"
   ]
  },
  {
   "cell_type": "code",
   "execution_count": null,
   "metadata": {
    "collapsed": true
   },
   "outputs": [],
   "source": [
    "src_folder='/ssd/cervical/GMM/train/Type_3/'\n",
    "save_folder ='/ssd/cervical/GMM_jpg/train/Type_3/'\n",
    "np2jpg(src_folder , save_folder)"
   ]
  },
  {
   "cell_type": "code",
   "execution_count": null,
   "metadata": {
    "collapsed": true
   },
   "outputs": [],
   "source": [
    "src_folder='/ssd/cervical/GMM/additional/Type_1/'\n",
    "save_folder ='/ssd/cervical/GMM_jpg/additional/Type_1/'\n",
    "np2jpg(src_folder , save_folder)"
   ]
  },
  {
   "cell_type": "code",
   "execution_count": null,
   "metadata": {
    "collapsed": true
   },
   "outputs": [],
   "source": [
    "src_folder='/ssd/cervical/GMM/additional/Type_2/'\n",
    "save_folder ='/ssd/cervical/GMM_jpg/additional/Type_2/'\n",
    "np2jpg(src_folder , save_folder)"
   ]
  },
  {
   "cell_type": "code",
   "execution_count": null,
   "metadata": {
    "collapsed": true
   },
   "outputs": [],
   "source": [
    "src_folder='/ssd/cervical/GMM/additional/Type_3/'\n",
    "save_folder ='/ssd/cervical/GMM_jpg/additional/Type_3/'\n",
    "np2jpg(src_folder , save_folder)"
   ]
  }
 ],
 "metadata": {
  "kernelspec": {
   "display_name": "Python 2",
   "language": "python",
   "name": "python2"
  },
  "language_info": {
   "codemirror_mode": {
    "name": "ipython",
    "version": 2
   },
   "file_extension": ".py",
   "mimetype": "text/x-python",
   "name": "python",
   "nbconvert_exporter": "python",
   "pygments_lexer": "ipython2",
   "version": "2.7.6"
  }
 },
 "nbformat": 4,
 "nbformat_minor": 1
}
